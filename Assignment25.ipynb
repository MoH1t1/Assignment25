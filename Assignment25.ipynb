{
  "metadata": {
    "kernelspec": {
      "name": "python",
      "display_name": "Python (Pyodide)",
      "language": "python"
    },
    "language_info": {
      "codemirror_mode": {
        "name": "python",
        "version": 3
      },
      "file_extension": ".py",
      "mimetype": "text/x-python",
      "name": "python",
      "nbconvert_exporter": "python",
      "pygments_lexer": "ipython3",
      "version": "3.8"
    }
  },
  "nbformat_minor": 4,
  "nbformat": 4,
  "cells": [
    {
      "cell_type": "code",
      "source": "# Q1. Load the \"titanic\" dataset using the load_dataset function of seaborn. Use Plotly express to plot a scatter plot for age and fare columns in the titanic dataset.\n\nimport seaborn as sns\nimport plotly.express as px\n\ntitanic = sns.load_dataset('titanic')\nfig = px.scatter(titanic, x='age', y='fare', title=\"Scatter Plot of Age vs Fare\", labels={'age': 'Age', 'fare': 'Fare'})\nfig.show()",
      "metadata": {
        "trusted": true
      },
      "outputs": [],
      "execution_count": null
    },
    {
      "cell_type": "code",
      "source": "# Q2. Using the tips dataset in the Plotly library, plot a box plot using Plotly express.\n\nimport plotly.express as px\ntips = px.data.tips()\nfig = px.box(tips, y=\"total_bill\", title=\"Box Plot of Total Bill\")\nfig.show()",
      "metadata": {
        "trusted": true
      },
      "outputs": [],
      "execution_count": null
    },
    {
      "cell_type": "code",
      "source": "# Q3. Using the tips dataset in the Plotly library, Plot a histogram for x= \"sex\" and y=\"total_bill\" column in\n# the tips dataset. Also, use the \"smoker\" column with the pattern_shape parameter and the \"day\" column with the color parameter.\n\nfig = px.histogram(tips, x=\"sex\", y=\"total_bill\", color=\"day\", pattern_shape=\"smoker\",\n                   title=\"Histogram of Total Bill by Sex and Day\")\nfig.show()\n",
      "metadata": {
        "trusted": true
      },
      "outputs": [],
      "execution_count": null
    },
    {
      "cell_type": "code",
      "source": "# Q4. Using the iris dataset in the Plotly library, Plot a scatter matrix plot, using the \"species\" column for\n# the color parameter. Note: Use \"sepal_length\", \"sepal_width\", \"petal_length\", \"petal_width\" columns only with the dimensions parameter.\n\n\niris = px.data.iris()\nfig = px.scatter_matrix(iris, dimensions=[\"sepal_length\", \"sepal_width\", \"petal_length\", \"petal_width\"],color=\"species\", title=\"Scatter Matrix Plot of Iris Dataset\")\nfig.show()",
      "metadata": {
        "trusted": true
      },
      "outputs": [],
      "execution_count": null
    },
    {
      "cell_type": "code",
      "source": "# Q5. What is Distplot? Using Plotly express, plot a distplot.\n\n# In the Seaborn library, a Distplot is used to visualize the distribution of a continuous variable. It combines a histogram with a kernel density estimate (KDE). \n# In Plotly Express, a similar plot can be created using the px.histogram() function with the marginal argument set to 'rug' or 'box' for the KDE curve.\n\n\nfig = px.histogram(tips, x=\"total_bill\", nbins=20, title=\"Histogram of Total Bill\")\nfig.show()",
      "metadata": {
        "trusted": true
      },
      "outputs": [],
      "execution_count": null
    }
  ]
}